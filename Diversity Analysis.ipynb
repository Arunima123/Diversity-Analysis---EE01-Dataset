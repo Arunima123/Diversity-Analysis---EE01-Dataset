{
 "cells": [
  {
   "cell_type": "code",
   "execution_count": 1,
   "metadata": {},
   "outputs": [],
   "source": [
    "#https://www.eeoc.gov/statistics/employment/jobpatterns/eeo1\n",
    "\n",
    "import pandas as pd\n",
    "import csv\n",
    "      \n",
    "def getColumnMappingDict():\n",
    "    input_file = csv.DictReader(open(\"ColumnHeaderInformation.csv\"))\n",
    "    column_mapping = {}\n",
    "    for row in input_file:\n",
    "        column_label_split = row['Column Label'].split(\",\")\n",
    "        column_label = {}\n",
    "        for label in column_label_split:\n",
    "            label_split = label.split(\":\")\n",
    "            column_label[label_split[0].strip()]=label_split[1].strip()\n",
    "        column_mapping[row['Column Name'].strip()]=column_label\n",
    "    return column_mapping\n",
    "\n",
    "def getColumnHeadersWithParticularLabel(column_mapping, label):\n",
    "    column_headers_agg_race = []\n",
    "    column_headers_agg_sex = []\n",
    "    column_headers_agg_job = []\n",
    "    for key,value in column_mapping.items():\n",
    "        if value['Race']==label:\n",
    "            column_headers_agg_race.append(key)\n",
    "        elif value['Sex']==label:\n",
    "            column_headers_agg_sex.append(key)\n",
    "        elif value['Job']==label:\n",
    "            column_headers_agg_job.append(key)\n",
    "    return column_headers_agg_race, column_headers_agg_sex, column_headers_agg_job"
   ]
  },
  {
   "cell_type": "code",
   "execution_count": 2,
   "metadata": {},
   "outputs": [],
   "source": [
    "column_mapping = getColumnMappingDict()\n",
    "column_headers_agg_race, column_headers_agg_sex, column_headers_agg_job = getColumnHeadersWithParticularLabel(column_mapping, 'Aggregate')"
   ]
  },
  {
   "cell_type": "code",
   "execution_count": 3,
   "metadata": {},
   "outputs": [
    {
     "name": "stdout",
     "output_type": "stream",
     "text": [
      "['TOTAL10', 'MT10', 'FT10', 'TOTAL1', 'TOTAL2', 'TOTAL3', 'TOTAL4', 'TOTAL5', 'TOTAL6', 'TOTAL7', 'TOTAL8', 'TOTAL9', 'TOTAL1_2', 'MT1', 'MT2', 'MT3', 'MT4', 'MT5', 'MT6', 'MT7', 'MT8', 'MT9', 'MT1_2', 'FT1', 'FT2', 'FT3', 'FT4', 'FT5', 'FT6', 'FT7', 'FT8', 'FT9', 'FT1_2']\n",
      "['WHT10', 'BLKT10', 'HISPT10', 'ASIANT10', 'AIANT10', 'NHOPIT10', 'TOMRT10', 'WHT1', 'WHT2', 'WHT3', 'WHT4', 'WHT5', 'WHT6', 'WHT7', 'WHT8', 'WHT9', 'WHT1_2', 'BLKT1', 'BLKT2', 'BLKT3', 'BLKT4', 'BLKT5', 'BLKT6', 'BLKT7', 'BLKT8', 'BLKT9', 'BLKT1_2', 'HISPT1', 'HISPT2', 'HISPT3', 'HISPT4', 'HISPT5', 'HISPT6', 'HISPT7', 'HISPT8', 'HISPT9', 'HISPT1_2', 'ASIANT1', 'ASIANT2', 'ASIANT3', 'ASIANT4', 'ASIANT5', 'ASIANT6', 'ASIANT7', 'ASIANT8', 'ASIANT9', 'ASIANT1_2', 'AIANT1', 'AIANT2', 'AIANT3', 'AIANT4', 'AIANT5', 'AIANT6', 'AIANT7', 'AIANT8', 'AIANT9', 'AIANT1_2', 'NHOPIT1', 'NHOPIT2', 'NHOPIT3', 'NHOPIT4', 'NHOPIT5', 'NHOPIT6', 'NHOPIT7', 'NHOPIT8', 'NHOPIT9', 'NHOPIT1_2', 'TOMRT1', 'TOMRT2', 'TOMRT3', 'TOMRT4', 'TOMRT5', 'TOMRT6', 'TOMRT7', 'TOMRT8', 'TOMRT9', 'TOMRT1_2']\n",
      "['WHM10', 'BLKM10', 'HISPM10', 'ASIANM10', 'AIANM10', 'NHOPIM10', 'TOMRM10', 'WHF10', 'BLKF10', 'HISPF10', 'ASIANF10', 'AIANF10', 'NHOPIF10', 'TOMRF10']\n"
     ]
    }
   ],
   "source": [
    "print(column_headers_agg_race)\n",
    "print(column_headers_agg_sex)\n",
    "print(column_headers_agg_job)"
   ]
  },
  {
   "cell_type": "code",
   "execution_count": null,
   "metadata": {},
   "outputs": [],
   "source": []
  }
 ],
 "metadata": {
  "kernelspec": {
   "display_name": "Python 3",
   "language": "python",
   "name": "python3"
  },
  "language_info": {
   "codemirror_mode": {
    "name": "ipython",
    "version": 3
   },
   "file_extension": ".py",
   "mimetype": "text/x-python",
   "name": "python",
   "nbconvert_exporter": "python",
   "pygments_lexer": "ipython3",
   "version": "3.8.5"
  }
 },
 "nbformat": 4,
 "nbformat_minor": 4
}
